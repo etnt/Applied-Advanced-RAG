{
 "cells": [
  {
   "cell_type": "code",
   "execution_count": 12,
   "metadata": {},
   "outputs": [
    {
     "data": {
      "text/plain": [
       "True"
      ]
     },
     "execution_count": 12,
     "metadata": {},
     "output_type": "execute_result"
    }
   ],
   "source": [
    "from langchain_openai import OpenAIEmbeddings\n",
    "from langchain.text_splitter import RecursiveCharacterTextSplitter\n",
    "from langchain_community.document_loaders import TextLoader, DirectoryLoader\n",
    "from langchain_community.vectorstores import Chroma\n",
    "from dotenv import load_dotenv, find_dotenv\n",
    "\n",
    "load_dotenv(find_dotenv())"
   ]
  },
  {
   "cell_type": "code",
   "execution_count": 13,
   "metadata": {},
   "outputs": [],
   "source": [
    "loader = DirectoryLoader('./', glob=\"./data/*.txt\", loader_cls=TextLoader)\n",
    "docs = loader.load()"
   ]
  },
  {
   "cell_type": "code",
   "execution_count": 14,
   "metadata": {},
   "outputs": [],
   "source": [
    "text_splitter = RecursiveCharacterTextSplitter(\n",
    "    chunk_size=100,\n",
    "    chunk_overlap=10,\n",
    "    length_function=len\n",
    ")\n",
    "new_docs = text_splitter.split_documents(documents=docs)\n",
    "doc_strings = [doc.page_content for doc in new_docs]"
   ]
  },
  {
   "cell_type": "code",
   "execution_count": 15,
   "metadata": {},
   "outputs": [],
   "source": [
    "embeddings = OpenAIEmbeddings(model=\"text-embedding-3-small\")\n",
    "vectors = embeddings.embed_documents(doc_strings)"
   ]
  },
  {
   "cell_type": "code",
   "execution_count": 16,
   "metadata": {},
   "outputs": [],
   "source": [
    "db = Chroma.from_documents(new_docs, embeddings)\n",
    "retriever = db.as_retriever(search_kwargs={\"k\": 6})"
   ]
  },
  {
   "cell_type": "code",
   "execution_count": 17,
   "metadata": {},
   "outputs": [
    {
     "name": "stderr",
     "output_type": "stream",
     "text": [
      "/Users/ttornkvi/git/Applied-Advanced-RAG/venv/lib/python3.12/site-packages/tqdm/auto.py:21: TqdmWarning: IProgress not found. Please update jupyter and ipywidgets. See https://ipywidgets.readthedocs.io/en/stable/user_install.html\n",
      "  from .autonotebook import tqdm as notebook_tqdm\n",
      "/Users/ttornkvi/git/Applied-Advanced-RAG/venv/lib/python3.12/site-packages/umap/umap_.py:1945: UserWarning: n_jobs value 1 overridden to 1 by setting random_state. Use no seed for parallelism.\n",
      "  warn(f\"n_jobs value {self.n_jobs} overridden to 1 by setting random_state. Use no seed for parallelism.\")\n"
     ]
    }
   ],
   "source": [
    "import umap\n",
    "import numpy as np\n",
    "from tqdm import tqdm\n",
    "\n",
    "# Transform the vectors to 2D space in order to visualize them\n",
    "umap_transformer = umap.UMAP(random_state=0, transform_seed=0).fit(vectors)"
   ]
  },
  {
   "cell_type": "code",
   "execution_count": 19,
   "metadata": {},
   "outputs": [],
   "source": [
    "def umap_embed(vectors, umap_transformer):\n",
    "    umap_embeddings = np.array([umap_transformer.transform([vector])[0] for vector in tqdm(vectors)])\n",
    "    return umap_embeddings"
   ]
  },
  {
   "cell_type": "code",
   "execution_count": 20,
   "metadata": {},
   "outputs": [
    {
     "name": "stderr",
     "output_type": "stream",
     "text": [
      "100%|██████████| 63/63 [00:19<00:00,  3.17it/s]\n"
     ]
    }
   ],
   "source": [
    "global_embeddings = umap_embed(vectors, umap_transformer)"
   ]
  },
  {
   "cell_type": "code",
   "execution_count": 21,
   "metadata": {},
   "outputs": [
    {
     "data": {
      "text/plain": [
       "array([[ 2.0519829 , 12.139986  ],\n",
       "       [ 3.996203  , 11.994909  ],\n",
       "       [ 1.7677892 , 11.842589  ],\n",
       "       [ 2.2584333 ,  8.908635  ],\n",
       "       [ 3.581199  , 10.953373  ],\n",
       "       [ 3.5644355 , 11.003839  ],\n",
       "       [ 2.8939853 ,  9.300886  ],\n",
       "       [ 3.6973886 , 10.691899  ],\n",
       "       [ 3.7314677 , 10.196327  ],\n",
       "       [ 3.4138293 ,  9.564282  ],\n",
       "       [ 1.7626733 , 11.886751  ],\n",
       "       [ 1.1990553 ,  9.172759  ],\n",
       "       [ 0.86329406, 10.5578575 ],\n",
       "       [ 1.1167405 ,  9.20165   ],\n",
       "       [ 1.6520175 , 11.607683  ],\n",
       "       [ 3.005282  ,  9.366952  ],\n",
       "       [ 2.924902  ,  9.327273  ],\n",
       "       [ 2.6943426 ,  9.191279  ],\n",
       "       [ 1.8638747 ,  8.871684  ],\n",
       "       [ 1.8336364 , 11.980323  ],\n",
       "       [ 1.117527  , 11.009085  ],\n",
       "       [ 0.83655345, 10.468912  ],\n",
       "       [ 2.3558247 , 12.3514    ],\n",
       "       [ 0.71613425,  9.724524  ],\n",
       "       [ 2.219228  , 12.22614   ],\n",
       "       [ 3.593674  , 11.532198  ],\n",
       "       [ 3.8692026 , 12.446893  ],\n",
       "       [ 2.897856  , 12.396722  ],\n",
       "       [ 2.9915624 , 12.407689  ],\n",
       "       [15.017946  ,  9.596944  ],\n",
       "       [14.296173  ,  6.838853  ],\n",
       "       [13.520825  ,  9.173865  ],\n",
       "       [15.048957  ,  9.565916  ],\n",
       "       [15.289499  ,  6.63593   ],\n",
       "       [15.176366  ,  6.6621103 ],\n",
       "       [14.850842  ,  6.6709867 ],\n",
       "       [14.571271  ,  6.6876493 ],\n",
       "       [16.189291  ,  8.313614  ],\n",
       "       [15.856914  ,  6.782786  ],\n",
       "       [15.484602  ,  6.687689  ],\n",
       "       [14.306422  ,  6.8346877 ],\n",
       "       [16.306278  ,  8.182494  ],\n",
       "       [16.009295  ,  6.8141885 ],\n",
       "       [14.356384  ,  6.806178  ],\n",
       "       [14.018309  ,  6.804481  ],\n",
       "       [15.949619  ,  6.807796  ],\n",
       "       [16.547062  ,  7.6858625 ],\n",
       "       [13.944008  ,  9.642005  ],\n",
       "       [15.219671  ,  9.492278  ],\n",
       "       [13.275161  ,  7.133904  ],\n",
       "       [13.196116  ,  7.241897  ],\n",
       "       [15.466222  ,  9.24039   ],\n",
       "       [15.782835  ,  6.760032  ],\n",
       "       [15.771768  ,  8.941712  ],\n",
       "       [13.481719  ,  7.128407  ],\n",
       "       [12.316793  ,  7.7419167 ],\n",
       "       [13.017215  ,  8.99553   ],\n",
       "       [13.715847  ,  9.395523  ],\n",
       "       [12.205359  ,  8.804212  ],\n",
       "       [12.749253  ,  7.399702  ],\n",
       "       [14.224956  ,  9.780398  ],\n",
       "       [14.158496  ,  6.895063  ],\n",
       "       [13.075117  ,  7.2845654 ]], dtype=float32)"
      ]
     },
     "execution_count": 21,
     "metadata": {},
     "output_type": "execute_result"
    }
   ],
   "source": [
    "global_embeddings"
   ]
  },
  {
   "cell_type": "code",
   "execution_count": 22,
   "metadata": {},
   "outputs": [
    {
     "data": {
      "text/plain": [
       "(-0.07541213333606722,\n",
       " 17.338608303666113,\n",
       " 6.3453819274902346,\n",
       " 12.737440872192384)"
      ]
     },
     "execution_count": 22,
     "metadata": {},
     "output_type": "execute_result"
    },
    {
     "data": {
      "image/png": "[encoded data removed]",
      "text/plain": [
       "<Figure size 640x480 with 1 Axes>"
      ]
     },
     "metadata": {},
     "output_type": "display_data"
    }
   ],
   "source": [
    "import matplotlib.pyplot as plt\n",
    "\n",
    "plt.figure()\n",
    "plt.scatter(global_embeddings[:, 0], global_embeddings[:, 1], s=10)\n",
    "plt.gca().set_aspect('equal', 'datalim')\n",
    "plt.title('Embeddings')\n",
    "plt.axis('off')"
   ]
  },
  {
   "cell_type": "code",
   "execution_count": 23,
   "metadata": {},
   "outputs": [],
   "source": [
    "def calc_global_embeddings(query, embeddings, retriever, umap_transformer, embed_function, global_embeddings):\n",
    "    q_embedding = embeddings.embed_query(query)\n",
    "\n",
    "    docs = retriever.get_relevant_documents(query)\n",
    "    page_contents = [doc.page_content for doc in docs]\n",
    "    vectors_content_vectors = embeddings.embed_documents(page_contents)\n",
    "\n",
    "    query_embeddings = embed_function([q_embedding], umap_transformer)\n",
    "    retrieved_embeddings = embed_function(vectors_content_vectors, umap_transformer)\n",
    "\n",
    "    plt.figure()\n",
    "    plt.scatter(global_embeddings[:, 0], global_embeddings[:, 1], s=10, color='gray')\n",
    "    plt.scatter(query_embeddings[:, 0], query_embeddings[:, 1], s=150, marker='X', color='r')\n",
    "    plt.scatter(retrieved_embeddings[:, 0], retrieved_embeddings[:, 1], s=50, facecolors='none', edgecolors='g')\n",
    "    plt.gca().set_aspect('equal', 'datalim')\n",
    "    plt.title(f'{query}')\n",
    "    plt.axis('off')\n",
    "    plt.show()\n"
   ]
  },
  {
   "cell_type": "code",
   "execution_count": 24,
   "metadata": {},
   "outputs": [
    {
     "name": "stderr",
     "output_type": "stream",
     "text": [
      "/var/folders/cq/lhlr_ykn5l123vlq84c24fvm0000gn/T/ipykernel_89680/3242896288.py:4: LangChainDeprecationWarning: The method `BaseRetriever.get_relevant_documents` was deprecated in langchain-core 0.1.46 and will be removed in 1.0. Use invoke instead.\n",
      "  docs = retriever.get_relevant_documents(query)\n",
      "100%|██████████| 1/1 [00:00<00:00,  2.53it/s]\n",
      "100%|██████████| 6/6 [00:01<00:00,  3.38it/s]\n"
     ]
    },
    {
     "data": {
      "image/png": "[encoded data removed]",
      "text/plain": [
       "<Figure size 640x480 with 1 Axes>"
      ]
     },
     "metadata": {},
     "output_type": "display_data"
    }
   ],
   "source": [
    "calc_global_embeddings(\"What loan do you offer?\", embeddings, retriever, umap_transformer, umap_embed, global_embeddings)"
   ]
  },
  {
   "cell_type": "code",
   "execution_count": 25,
   "metadata": {},
   "outputs": [
    {
     "name": "stderr",
     "output_type": "stream",
     "text": [
      "100%|██████████| 1/1 [00:00<00:00,  3.40it/s]\n",
      "100%|██████████| 6/6 [00:01<00:00,  3.36it/s]\n"
     ]
    },
    {
     "data": {
      "image/png": "[encoded data removed]",
      "text/plain": [
       "<Figure size 640x480 with 1 Axes>"
      ]
     },
     "metadata": {},
     "output_type": "display_data"
    }
   ],
   "source": [
    "calc_global_embeddings(\"Do you offer vegetarian food?\", embeddings, retriever, umap_transformer, umap_embed, global_embeddings)\n"
   ]
  },
  {
   "cell_type": "markdown",
   "metadata": {},
   "source": [
    "### Query Expansion "
   ]
  },
  {
   "cell_type": "code",
   "execution_count": 26,
   "metadata": {},
   "outputs": [],
   "source": [
    "from langchain_openai import ChatOpenAI\n",
    "\n",
    "llm = ChatOpenAI(\n",
    "        temperature=0,\n",
    "        max_tokens=800,\n",
    "        #model_kwargs={\"top_p\": 0, \"frequency_penalty\": 0, \"presence_penalty\": 0},\n",
    "        top_p=0,\n",
    "        frequency_penalty=0,\n",
    "        presence_penalty=0\n",
    "    )"
   ]
  },
  {
   "cell_type": "code",
   "execution_count": 27,
   "metadata": {},
   "outputs": [],
   "source": [
    "from langchain.schema.runnable import Runnable\n",
    "from langchain_core.messages.ai import AIMessage\n",
    "\n",
    "# Experiment with a Runnable that can convert a (list of) AIMessage objects to a list of strings\n",
    "class AIMessageToString(Runnable):\n",
    "    def invoke(self, input_messages, config):\n",
    "        # Check if input_messages is a list\n",
    "        if isinstance(input_messages, list):\n",
    "            # Initialize an empty list to store content strings\n",
    "            content_strings = []\n",
    "            # Loop over each message in the list\n",
    "            for message in input_messages:\n",
    "                # Check if the message is a AIMessages instance\n",
    "                if isinstance(message, AIMessage):\n",
    "                    # Append the content string to the list\n",
    "                    content_strings.append(message.content)\n",
    "                else:\n",
    "                    raise TypeError(\"Expected each item in the list to be a AIMessage object.\")\n",
    "            # Return the list of content strings\n",
    "            return content_strings\n",
    "        else:\n",
    "            # Check if the message is just an AIMessages instance\n",
    "            if isinstance(input_messages, AIMessage):\n",
    "                # Return the content string\n",
    "                return input_messages.content\n",
    "            else:\n",
    "                raise TypeError(\"Expected input_message to be a AIMessage object.\")"
   ]
  },
  {
   "cell_type": "code",
   "execution_count": 28,
   "metadata": {},
   "outputs": [
    {
     "data": {
      "text/plain": [
       "['Do you provide plant-based meal options?',\n",
       " 'Are vegetarian dishes available on your menu?',\n",
       " 'Do you have any meatless food choices?',\n",
       " 'Are there vegetarian-friendly options on your menu?',\n",
       " 'Do you cater to customers looking for vegetarian meals?']"
      ]
     },
     "execution_count": 28,
     "metadata": {},
     "output_type": "execute_result"
    }
   ],
   "source": [
    "from langchain_core.prompts import ChatPromptTemplate\n",
    "from langchain_core.runnables import RunnableLambda\n",
    "\n",
    "query = \"Do you offer vegetarian food?\"\n",
    "\n",
    "def split_lines(text: str) -> list[str]:\n",
    "    return text.strip().split(\"\\n\")\n",
    "\n",
    "output_parser = AIMessageToString() | RunnableLambda(split_lines)\n",
    "\n",
    "prompt = ChatPromptTemplate.from_template(\n",
    "    \"\"\"You are an AI language model assistant. Your task is to generate five\n",
    "    different versions of the given user question to retrieve relevant documents from a vector\n",
    "    database. By generating multiple perspectives on the user question, your goal is to help\n",
    "    the user overcome some of the limitations of the distance-based similarity search.\n",
    "    Provide these alternative questions separated by newlines. Only provide the query, no numbering.\n",
    "    Original question: {question}\"\"\")\n",
    "\n",
    "llm_chain = prompt | llm | output_parser\n",
    "queries = llm_chain.invoke(query)\n",
    "queries"
   ]
  },
  {
   "cell_type": "code",
   "execution_count": 9,
   "metadata": {},
   "outputs": [
    {
     "ename": "AttributeError",
     "evalue": "'list' object has no attribute 'get'",
     "output_type": "error",
     "traceback": [
      "\u001b[0;31m---------------------------------------------------------------------------\u001b[0m",
      "\u001b[0;31mAttributeError\u001b[0m                            Traceback (most recent call last)",
      "Cell \u001b[0;32mIn[9], line 1\u001b[0m\n\u001b[0;32m----> 1\u001b[0m queries \u001b[38;5;241m=\u001b[39m \u001b[43mqueries\u001b[49m\u001b[38;5;241;43m.\u001b[39;49m\u001b[43mget\u001b[49m(\u001b[38;5;124m\"\u001b[39m\u001b[38;5;124mtext\u001b[39m\u001b[38;5;124m\"\u001b[39m)\n\u001b[1;32m      2\u001b[0m queries\n",
      "\u001b[0;31mAttributeError\u001b[0m: 'list' object has no attribute 'get'"
     ]
    }
   ],
   "source": [
    "#queries = queries.get(\"text\")\n",
    "#queries"
   ]
  },
  {
   "cell_type": "code",
   "execution_count": 30,
   "metadata": {},
   "outputs": [
    {
     "data": {
      "text/plain": [
       "[[Document(metadata={'source': 'data/data2.txt'}, page_content='La Bella Vita also prides itself on its vegetarian and vegan options, catering to all dietary'),\n",
       "  Document(metadata={'source': 'data/data2.txt'}, page_content='dietary preferences. Dishes like eggplant parmigiana and mushroom risotto are crafted with the same'),\n",
       "  Document(metadata={'source': 'data/data2.txt'}, page_content='the same attention to detail and flavor as their meat-based counterparts.'),\n",
       "  Document(metadata={'source': 'data/data2.txt'}, page_content='La Bella Vita also offers a unique dining experience with its private dining rooms and catering'),\n",
       "  Document(metadata={'source': 'data/data2.txt'}, page_content='the restaurant provides a personalized service that makes every event memorable.'),\n",
       "  Document(metadata={'source': 'data/data2.txt'}, page_content='cooking expertise to the table. The menu features a variety of regional specialties, showcasing the')],\n",
       " [Document(metadata={'source': 'data/data2.txt'}, page_content='dietary preferences. Dishes like eggplant parmigiana and mushroom risotto are crafted with the same'),\n",
       "  Document(metadata={'source': 'data/data2.txt'}, page_content='La Bella Vita also prides itself on its vegetarian and vegan options, catering to all dietary'),\n",
       "  Document(metadata={'source': 'data/data2.txt'}, page_content='The meat and fish dishes are equally impressive, with offerings like osso buco, saltimbocca, and'),\n",
       "  Document(metadata={'source': 'data/data2.txt'}, page_content='cooking expertise to the table. The menu features a variety of regional specialties, showcasing the'),\n",
       "  Document(metadata={'source': 'data/data2.txt'}, page_content='The pasta selection is a highlight of the menu, featuring classics like lasagna, ravioli, and'),\n",
       "  Document(metadata={'source': 'data/data2.txt'}, page_content='La Bella Vita also offers a unique dining experience with its private dining rooms and catering')],\n",
       " [Document(metadata={'source': 'data/data2.txt'}, page_content='dietary preferences. Dishes like eggplant parmigiana and mushroom risotto are crafted with the same'),\n",
       "  Document(metadata={'source': 'data/data2.txt'}, page_content='La Bella Vita also prides itself on its vegetarian and vegan options, catering to all dietary'),\n",
       "  Document(metadata={'source': 'data/data2.txt'}, page_content='the same attention to detail and flavor as their meat-based counterparts.'),\n",
       "  Document(metadata={'source': 'data/data2.txt'}, page_content='The meat and fish dishes are equally impressive, with offerings like osso buco, saltimbocca, and'),\n",
       "  Document(metadata={'source': 'data/data2.txt'}, page_content='The pasta selection is a highlight of the menu, featuring classics like lasagna, ravioli, and'),\n",
       "  Document(metadata={'source': 'data/data2.txt'}, page_content='from rich and creamy to light and zesty, are made with the freshest ingredients, bringing out the')],\n",
       " [Document(metadata={'source': 'data/data2.txt'}, page_content='La Bella Vita also prides itself on its vegetarian and vegan options, catering to all dietary'),\n",
       "  Document(metadata={'source': 'data/data2.txt'}, page_content='dietary preferences. Dishes like eggplant parmigiana and mushroom risotto are crafted with the same'),\n",
       "  Document(metadata={'source': 'data/data2.txt'}, page_content='The pasta selection is a highlight of the menu, featuring classics like lasagna, ravioli, and'),\n",
       "  Document(metadata={'source': 'data/data2.txt'}, page_content='The meat and fish dishes are equally impressive, with offerings like osso buco, saltimbocca, and'),\n",
       "  Document(metadata={'source': 'data/data2.txt'}, page_content='the same attention to detail and flavor as their meat-based counterparts.'),\n",
       "  Document(metadata={'source': 'data/data2.txt'}, page_content='cooking expertise to the table. The menu features a variety of regional specialties, showcasing the')],\n",
       " [Document(metadata={'source': 'data/data2.txt'}, page_content='La Bella Vita also prides itself on its vegetarian and vegan options, catering to all dietary'),\n",
       "  Document(metadata={'source': 'data/data2.txt'}, page_content='dietary preferences. Dishes like eggplant parmigiana and mushroom risotto are crafted with the same'),\n",
       "  Document(metadata={'source': 'data/data2.txt'}, page_content='the same attention to detail and flavor as their meat-based counterparts.'),\n",
       "  Document(metadata={'source': 'data/data2.txt'}, page_content=\"catering services. Whether it's for a special occasion, a business meeting, or a family gathering,\"),\n",
       "  Document(metadata={'source': 'data/data2.txt'}, page_content='La Bella Vita also offers a unique dining experience with its private dining rooms and catering'),\n",
       "  Document(metadata={'source': 'data/data2.txt'}, page_content='the restaurant provides a personalized service that makes every event memorable.')]]"
      ]
     },
     "execution_count": 30,
     "metadata": {},
     "output_type": "execute_result"
    }
   ],
   "source": [
    "docs = [retriever.get_relevant_documents(query) for query in queries]\n",
    "docs"
   ]
  },
  {
   "cell_type": "code",
   "execution_count": 31,
   "metadata": {},
   "outputs": [
    {
     "name": "stdout",
     "output_type": "stream",
     "text": [
      "{'foo', 'baz', 'bar'}\n",
      "{'foo', 'baz', 'bar'}\n"
     ]
    }
   ],
   "source": [
    "aset = set()\n",
    "aset.add(\"foo\")\n",
    "aset.add(\"bar\")\n",
    "aset.add(\"baz\")\n",
    "print(aset)\n",
    "aset.add(\"bar\")\n",
    "print(aset)"
   ]
  },
  {
   "cell_type": "code",
   "execution_count": 32,
   "metadata": {},
   "outputs": [],
   "source": [
    "unique_contents = set()\n",
    "unique_docs = []\n",
    "for sublist in docs:\n",
    "    for doc in sublist:\n",
    "        if doc.page_content not in unique_contents:\n",
    "            unique_docs.append(doc)\n",
    "            unique_contents.add(doc.page_content)\n",
    "unique_contents = list(unique_contents)"
   ]
  },
  {
   "cell_type": "code",
   "execution_count": 33,
   "metadata": {},
   "outputs": [
    {
     "data": {
      "text/plain": [
       "['La Bella Vita also prides itself on its vegetarian and vegan options, catering to all dietary',\n",
       " \"catering services. Whether it's for a special occasion, a business meeting, or a family gathering,\",\n",
       " 'cooking expertise to the table. The menu features a variety of regional specialties, showcasing the',\n",
       " 'dietary preferences. Dishes like eggplant parmigiana and mushroom risotto are crafted with the same',\n",
       " 'La Bella Vita also offers a unique dining experience with its private dining rooms and catering',\n",
       " 'the restaurant provides a personalized service that makes every event memorable.',\n",
       " 'the same attention to detail and flavor as their meat-based counterparts.',\n",
       " 'The pasta selection is a highlight of the menu, featuring classics like lasagna, ravioli, and',\n",
       " 'from rich and creamy to light and zesty, are made with the freshest ingredients, bringing out the',\n",
       " 'The meat and fish dishes are equally impressive, with offerings like osso buco, saltimbocca, and']"
      ]
     },
     "execution_count": 33,
     "metadata": {},
     "output_type": "execute_result"
    }
   ],
   "source": [
    "unique_contents"
   ]
  },
  {
   "cell_type": "code",
   "execution_count": 34,
   "metadata": {},
   "outputs": [
    {
     "data": {
      "text/plain": [
       "['La Bella Vita also prides itself on its vegetarian and vegan options, catering to all dietary',\n",
       " \"catering services. Whether it's for a special occasion, a business meeting, or a family gathering,\",\n",
       " 'cooking expertise to the table. The menu features a variety of regional specialties, showcasing the',\n",
       " 'dietary preferences. Dishes like eggplant parmigiana and mushroom risotto are crafted with the same',\n",
       " 'La Bella Vita also offers a unique dining experience with its private dining rooms and catering',\n",
       " 'the restaurant provides a personalized service that makes every event memorable.',\n",
       " 'the same attention to detail and flavor as their meat-based counterparts.',\n",
       " 'The pasta selection is a highlight of the menu, featuring classics like lasagna, ravioli, and',\n",
       " 'from rich and creamy to light and zesty, are made with the freshest ingredients, bringing out the',\n",
       " 'The meat and fish dishes are equally impressive, with offerings like osso buco, saltimbocca, and']"
      ]
     },
     "execution_count": 34,
     "metadata": {},
     "output_type": "execute_result"
    }
   ],
   "source": [
    "# This is a simpler way to get unique contents (?)\n",
    "ucont = set()\n",
    "for sublist in docs:\n",
    "    for doc in sublist:\n",
    "        ucont.add(doc.page_content)\n",
    "ucont = list(ucont)\n",
    "ucont"
   ]
  },
  {
   "cell_type": "markdown",
   "metadata": {},
   "source": [
    "# Cross-encoder re-ranking"
   ]
  },
  {
   "cell_type": "code",
   "execution_count": 35,
   "metadata": {},
   "outputs": [
    {
     "name": "stderr",
     "output_type": "stream",
     "text": [
      "/Users/ttornkvi/git/Applied-Advanced-RAG/venv/lib/python3.12/site-packages/transformers/tokenization_utils_base.py:1601: FutureWarning: `clean_up_tokenization_spaces` was not set. It will be set to `True` by default. This behavior will be depracted in transformers v4.45, and will be then set to `False` by default. For more details check this issue: https://github.com/huggingface/transformers/issues/31884\n",
      "  warnings.warn(\n"
     ]
    }
   ],
   "source": [
    "from sentence_transformers import CrossEncoder\n",
    "cross_encoder = CrossEncoder('cross-encoder/ms-marco-MiniLM-L-6-v2')"
   ]
  },
  {
   "cell_type": "code",
   "execution_count": 36,
   "metadata": {},
   "outputs": [],
   "source": [
    "pairs = []\n",
    "for doc in unique_contents:\n",
    "    pairs.append([query, doc])"
   ]
  },
  {
   "cell_type": "code",
   "execution_count": 37,
   "metadata": {},
   "outputs": [
    {
     "data": {
      "text/plain": [
       "array([ -2.7005744, -11.167172 , -11.102643 ,  -9.750738 , -11.079877 ,\n",
       "       -10.895903 , -10.356453 , -10.774686 , -10.663025 ,  -8.007283 ],\n",
       "      dtype=float32)"
      ]
     },
     "execution_count": 37,
     "metadata": {},
     "output_type": "execute_result"
    }
   ],
   "source": [
    "scores = cross_encoder.predict(pairs)\n",
    "scores"
   ]
  },
  {
   "cell_type": "code",
   "execution_count": 38,
   "metadata": {},
   "outputs": [
    {
     "data": {
      "text/plain": [
       "[(-2.7005744,\n",
       "  'La Bella Vita also prides itself on its vegetarian and vegan options, catering to all dietary'),\n",
       " (-8.007283,\n",
       "  'The meat and fish dishes are equally impressive, with offerings like osso buco, saltimbocca, and'),\n",
       " (-9.750738,\n",
       "  'dietary preferences. Dishes like eggplant parmigiana and mushroom risotto are crafted with the same'),\n",
       " (-10.356453,\n",
       "  'the same attention to detail and flavor as their meat-based counterparts.'),\n",
       " (-10.663025,\n",
       "  'from rich and creamy to light and zesty, are made with the freshest ingredients, bringing out the'),\n",
       " (-10.774686,\n",
       "  'The pasta selection is a highlight of the menu, featuring classics like lasagna, ravioli, and'),\n",
       " (-10.895903,\n",
       "  'the restaurant provides a personalized service that makes every event memorable.'),\n",
       " (-11.079877,\n",
       "  'La Bella Vita also offers a unique dining experience with its private dining rooms and catering'),\n",
       " (-11.102643,\n",
       "  'cooking expertise to the table. The menu features a variety of regional specialties, showcasing the'),\n",
       " (-11.167172,\n",
       "  \"catering services. Whether it's for a special occasion, a business meeting, or a family gathering,\")]"
      ]
     },
     "execution_count": 38,
     "metadata": {},
     "output_type": "execute_result"
    }
   ],
   "source": [
    "scored_docs = zip(scores, unique_contents)\n",
    "sorted_docs = sorted(scored_docs, reverse=True)\n",
    "sorted_docs"
   ]
  },
  {
   "cell_type": "code",
   "execution_count": 40,
   "metadata": {},
   "outputs": [
    {
     "data": {
      "text/plain": [
       "['La Bella Vita also prides itself on its vegetarian and vegan options, catering to all dietary',\n",
       " 'The meat and fish dishes are equally impressive, with offerings like osso buco, saltimbocca, and',\n",
       " 'dietary preferences. Dishes like eggplant parmigiana and mushroom risotto are crafted with the same',\n",
       " 'the same attention to detail and flavor as their meat-based counterparts.',\n",
       " 'from rich and creamy to light and zesty, are made with the freshest ingredients, bringing out the']"
      ]
     },
     "execution_count": 40,
     "metadata": {},
     "output_type": "execute_result"
    }
   ],
   "source": [
    "reranked_docs = [doc for _, doc in sorted_docs][0:5]\n",
    "reranked_docs"
   ]
  },
  {
   "cell_type": "markdown",
   "metadata": {},
   "source": [
    "### Lost in the middle Problem\n",
    "\n",
    "https://arxiv.org/abs/2307.03172"
   ]
  },
  {
   "cell_type": "code",
   "execution_count": 45,
   "metadata": {},
   "outputs": [],
   "source": [
    "from langchain_community.document_transformers import (\n",
    "    LongContextReorder\n",
    ")"
   ]
  },
  {
   "cell_type": "code",
   "execution_count": 46,
   "metadata": {},
   "outputs": [
    {
     "data": {
      "text/plain": [
       "['La Bella Vita also prides itself on its vegetarian and vegan options, catering to all dietary',\n",
       " 'dietary preferences. Dishes like eggplant parmigiana and mushroom risotto are crafted with the same',\n",
       " 'from rich and creamy to light and zesty, are made with the freshest ingredients, bringing out the',\n",
       " 'the same attention to detail and flavor as their meat-based counterparts.',\n",
       " 'The meat and fish dishes are equally impressive, with offerings like osso buco, saltimbocca, and']"
      ]
     },
     "execution_count": 46,
     "metadata": {},
     "output_type": "execute_result"
    }
   ],
   "source": [
    "reordering = LongContextReorder()\n",
    "reordered_docs = reordering.transform_documents(reranked_docs)\n",
    "reordered_docs"
   ]
  }
 ],
 "metadata": {
  "kernelspec": {
   "display_name": "app",
   "language": "python",
   "name": "python3"
  },
  "language_info": {
   "codemirror_mode": {
    "name": "ipython",
    "version": 3
   },
   "file_extension": ".py",
   "mimetype": "text/x-python",
   "name": "python",
   "nbconvert_exporter": "python",
   "pygments_lexer": "ipython3",
   "version": "3.12.5"
  }
 },
 "nbformat": 4,
 "nbformat_minor": 2
}
