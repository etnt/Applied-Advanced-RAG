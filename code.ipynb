{
 "cells": [
  {
   "cell_type": "code",
   "execution_count": 3,
   "metadata": {},
   "outputs": [
    {
     "data": {
      "text/plain": [
       "True"
      ]
     },
     "execution_count": 3,
     "metadata": {},
     "output_type": "execute_result"
    }
   ],
   "source": [
    "from langchain_openai import OpenAIEmbeddings\n",
    "from langchain.text_splitter import RecursiveCharacterTextSplitter\n",
    "from langchain_community.document_loaders import TextLoader, DirectoryLoader\n",
    "from langchain_community.vectorstores import Chroma\n",
    "from dotenv import load_dotenv, find_dotenv\n",
    "\n",
    "load_dotenv(find_dotenv())"
   ]
  },
  {
   "cell_type": "code",
   "execution_count": 4,
   "metadata": {},
   "outputs": [],
   "source": [
    "loader = DirectoryLoader('./', glob=\"./data/*.txt\", loader_cls=TextLoader)\n",
    "docs = loader.load()"
   ]
  },
  {
   "cell_type": "code",
   "execution_count": 5,
   "metadata": {},
   "outputs": [],
   "source": [
    "text_splitter = RecursiveCharacterTextSplitter(\n",
    "    chunk_size=100,\n",
    "    chunk_overlap=10,\n",
    "    length_function=len\n",
    ")\n",
    "new_docs = text_splitter.split_documents(documents=docs)\n",
    "doc_strings = [doc.page_content for doc in new_docs]"
   ]
  },
  {
   "cell_type": "code",
   "execution_count": 6,
   "metadata": {},
   "outputs": [],
   "source": [
    "embeddings = OpenAIEmbeddings(model=\"text-embedding-3-small\")\n",
    "vectors = embeddings.embed_documents(doc_strings)"
   ]
  },
  {
   "cell_type": "code",
   "execution_count": 7,
   "metadata": {},
   "outputs": [],
   "source": [
    "db = Chroma.from_documents(new_docs, embeddings)\n",
    "retriever = db.as_retriever(search_kwargs={\"k\": 6})"
   ]
  },
  {
   "cell_type": "code",
   "execution_count": 8,
   "metadata": {},
   "outputs": [
    {
     "name": "stderr",
     "output_type": "stream",
     "text": [
      "/Users/ttornkvi/git/Applied-Advanced-RAG/venv/lib/python3.12/site-packages/tqdm/auto.py:21: TqdmWarning: IProgress not found. Please update jupyter and ipywidgets. See https://ipywidgets.readthedocs.io/en/stable/user_install.html\n",
      "  from .autonotebook import tqdm as notebook_tqdm\n",
      "/Users/ttornkvi/git/Applied-Advanced-RAG/venv/lib/python3.12/site-packages/umap/umap_.py:1945: UserWarning: n_jobs value 1 overridden to 1 by setting random_state. Use no seed for parallelism.\n",
      "  warn(f\"n_jobs value {self.n_jobs} overridden to 1 by setting random_state. Use no seed for parallelism.\")\n"
     ]
    }
   ],
   "source": [
    "import umap\n",
    "import numpy as np\n",
    "from tqdm import tqdm\n",
    "\n",
    "# Transform the vectors to 2D space in order to visualize them\n",
    "umap_transformer = umap.UMAP(random_state=0, transform_seed=0).fit(vectors)"
   ]
  },
  {
   "cell_type": "code",
   "execution_count": 9,
   "metadata": {},
   "outputs": [],
   "source": [
    "def umap_embed(vectors, umap_transformer):\n",
    "    umap_embeddings = np.array([umap_transformer.transform([vector])[0] for vector in tqdm(vectors)])\n",
    "    return umap_embeddings"
   ]
  },
  {
   "cell_type": "code",
   "execution_count": 10,
   "metadata": {},
   "outputs": [
    {
     "name": "stderr",
     "output_type": "stream",
     "text": [
      "100%|██████████| 63/63 [00:20<00:00,  3.13it/s]\n"
     ]
    }
   ],
   "source": [
    "global_embeddings = umap_embed(vectors, umap_transformer)"
   ]
  },
  {
   "cell_type": "code",
   "execution_count": 11,
   "metadata": {},
   "outputs": [
    {
     "data": {
      "text/plain": [
       "array([[ 7.350314  ,  8.702798  ],\n",
       "       [ 8.869891  ,  9.039424  ],\n",
       "       [ 7.1216836 ,  8.476796  ],\n",
       "       [ 8.343831  ,  5.362691  ],\n",
       "       [ 7.1659813 ,  7.5243745 ],\n",
       "       [ 6.962714  ,  7.804892  ],\n",
       "       [ 9.157101  ,  5.8796573 ],\n",
       "       [ 9.222268  ,  7.595507  ],\n",
       "       [ 9.417045  ,  7.1369457 ],\n",
       "       [ 7.570833  ,  7.0963664 ],\n",
       "       [ 7.0411706 ,  8.384525  ],\n",
       "       [ 7.554728  ,  5.395637  ],\n",
       "       [ 6.8335967 ,  6.0773005 ],\n",
       "       [ 7.544265  ,  5.3743706 ],\n",
       "       [ 7.073204  ,  7.6377435 ],\n",
       "       [ 9.431235  ,  7.0119    ],\n",
       "       [ 9.456773  ,  6.463598  ],\n",
       "       [ 9.178359  ,  5.9195504 ],\n",
       "       [ 8.479376  ,  5.3272743 ],\n",
       "       [ 6.944905  ,  8.112816  ],\n",
       "       [ 6.846789  ,  6.983943  ],\n",
       "       [ 6.8396482 ,  6.1947746 ],\n",
       "       [ 7.562661  ,  8.83229   ],\n",
       "       [ 6.8113494 ,  6.3894453 ],\n",
       "       [ 7.4709496 ,  8.762698  ],\n",
       "       [ 7.793986  ,  8.9658    ],\n",
       "       [ 9.11626   ,  8.78858   ],\n",
       "       [ 7.6939945 ,  8.89767   ],\n",
       "       [ 7.6861086 ,  8.928129  ],\n",
       "       [18.731045  ,  1.4050233 ],\n",
       "       [18.935339  ,  2.2667644 ],\n",
       "       [18.862217  ,  1.8835764 ],\n",
       "       [18.751635  ,  1.536182  ],\n",
       "       [16.362734  ,  3.5700674 ],\n",
       "       [18.387308  ,  3.8557572 ],\n",
       "       [18.561277  ,  3.6318808 ],\n",
       "       [18.420376  ,  3.878824  ],\n",
       "       [16.99406   ,  4.5183845 ],\n",
       "       [18.023197  ,  4.210766  ],\n",
       "       [18.388649  ,  3.7565186 ],\n",
       "       [18.934538  ,  2.8924963 ],\n",
       "       [17.740356  ,  4.4074626 ],\n",
       "       [18.172834  ,  4.022892  ],\n",
       "       [18.933989  ,  2.858216  ],\n",
       "       [18.571611  ,  1.0543317 ],\n",
       "       [17.172628  ,  4.5176463 ],\n",
       "       [18.162014  ,  4.0747795 ],\n",
       "       [17.334612  ,  0.9551758 ],\n",
       "       [17.046173  ,  1.3069597 ],\n",
       "       [16.09403   ,  3.0283651 ],\n",
       "       [15.990172  ,  2.8591862 ],\n",
       "       [18.851006  ,  1.7536203 ],\n",
       "       [18.374084  ,  3.7569723 ],\n",
       "       [18.98376   ,  2.4141903 ],\n",
       "       [17.603497  ,  0.7206243 ],\n",
       "       [15.429767  ,  1.5354928 ],\n",
       "       [16.06653   ,  1.2718619 ],\n",
       "       [17.446276  ,  0.86013764],\n",
       "       [15.091939  ,  2.9013522 ],\n",
       "       [15.946811  ,  1.3184043 ],\n",
       "       [17.840366  ,  0.6831668 ],\n",
       "       [18.908556  ,  2.3076363 ],\n",
       "       [16.177395  ,  1.2909932 ]], dtype=float32)"
      ]
     },
     "execution_count": 11,
     "metadata": {},
     "output_type": "execute_result"
    }
   ],
   "source": [
    "global_embeddings"
   ]
  },
  {
   "cell_type": "code",
   "execution_count": 12,
   "metadata": {},
   "outputs": [
    {
     "data": {
      "text/plain": [
       "(6.202728819847107, 19.592381405830384, 0.26535394489765163, 9.45723679959774)"
      ]
     },
     "execution_count": 12,
     "metadata": {},
     "output_type": "execute_result"
    },
    {
     "data": {
      "image/png": "[encoded data removed]",
      "text/plain": [
       "<Figure size 640x480 with 1 Axes>"
      ]
     },
     "metadata": {},
     "output_type": "display_data"
    }
   ],
   "source": [
    "import matplotlib.pyplot as plt\n",
    "\n",
    "plt.figure()\n",
    "plt.scatter(global_embeddings[:, 0], global_embeddings[:, 1], s=10)\n",
    "plt.gca().set_aspect('equal', 'datalim')\n",
    "plt.title('Embeddings')\n",
    "plt.axis('off')"
   ]
  },
  {
   "cell_type": "code",
   "execution_count": 13,
   "metadata": {},
   "outputs": [],
   "source": [
    "def calc_global_embeddings(query, embeddings, retriever, umap_transformer, embed_function, global_embeddings):\n",
    "    q_embedding = embeddings.embed_query(query)\n",
    "\n",
    "    docs = retriever.get_relevant_documents(query)\n",
    "    page_contents = [doc.page_content for doc in docs]\n",
    "    vectors_content_vectors = embeddings.embed_documents(page_contents)\n",
    "\n",
    "    query_embeddings = embed_function([q_embedding], umap_transformer)\n",
    "    retrieved_embeddings = embed_function(vectors_content_vectors, umap_transformer)\n",
    "\n",
    "    plt.figure()\n",
    "    plt.scatter(global_embeddings[:, 0], global_embeddings[:, 1], s=10, color='gray')\n",
    "    plt.scatter(query_embeddings[:, 0], query_embeddings[:, 1], s=150, marker='X', color='r')\n",
    "    plt.scatter(retrieved_embeddings[:, 0], retrieved_embeddings[:, 1], s=50, facecolors='none', edgecolors='g')\n",
    "    plt.gca().set_aspect('equal', 'datalim')\n",
    "    plt.title(f'{query}')\n",
    "    plt.axis('off')\n",
    "    plt.show()\n"
   ]
  },
  {
   "cell_type": "code",
   "execution_count": 14,
   "metadata": {},
   "outputs": [
    {
     "name": "stderr",
     "output_type": "stream",
     "text": [
      "/var/folders/cq/lhlr_ykn5l123vlq84c24fvm0000gn/T/ipykernel_6661/3242896288.py:4: LangChainDeprecationWarning: The method `BaseRetriever.get_relevant_documents` was deprecated in langchain-core 0.1.46 and will be removed in 1.0. Use invoke instead.\n",
      "  docs = retriever.get_relevant_documents(query)\n",
      "100%|██████████| 1/1 [00:00<00:00,  2.43it/s]\n",
      "100%|██████████| 6/6 [00:01<00:00,  3.36it/s]\n"
     ]
    },
    {
     "data": {
      "image/png": "[encoded data removed]",
      "text/plain": [
       "<Figure size 640x480 with 1 Axes>"
      ]
     },
     "metadata": {},
     "output_type": "display_data"
    }
   ],
   "source": [
    "calc_global_embeddings(\"What loan do you offer?\", embeddings, retriever, umap_transformer, umap_embed, global_embeddings)"
   ]
  },
  {
   "cell_type": "code",
   "execution_count": 15,
   "metadata": {},
   "outputs": [
    {
     "name": "stderr",
     "output_type": "stream",
     "text": [
      "100%|██████████| 1/1 [00:00<00:00,  3.27it/s]\n",
      "100%|██████████| 6/6 [00:01<00:00,  3.36it/s]\n"
     ]
    },
    {
     "data": {
      "image/png": "[encoded data removed]",
      "text/plain": [
       "<Figure size 640x480 with 1 Axes>"
      ]
     },
     "metadata": {},
     "output_type": "display_data"
    }
   ],
   "source": [
    "calc_global_embeddings(\"Do you offer vegetarian food?\", embeddings, retriever, umap_transformer, umap_embed, global_embeddings)\n"
   ]
  },
  {
   "cell_type": "markdown",
   "metadata": {},
   "source": [
    "### Query Expansion "
   ]
  },
  {
   "cell_type": "code",
   "execution_count": 2,
   "metadata": {},
   "outputs": [],
   "source": [
    "from langchain_openai import ChatOpenAI\n",
    "\n",
    "llm = ChatOpenAI(\n",
    "        temperature=0,\n",
    "        max_tokens=800,\n",
    "        #model_kwargs={\"top_p\": 0, \"frequency_penalty\": 0, \"presence_penalty\": 0},\n",
    "        top_p=0,\n",
    "        frequency_penalty=0,\n",
    "        presence_penalty=0\n",
    "    )"
   ]
  },
  {
   "cell_type": "code",
   "execution_count": 7,
   "metadata": {},
   "outputs": [],
   "source": [
    "from langchain.schema.runnable import Runnable\n",
    "from langchain_core.messages.ai import AIMessage\n",
    "\n",
    "# Experiment with a Runnable that can convert a (list of) AIMessage objects to a list of strings\n",
    "class AIMessageToString(Runnable):\n",
    "    def invoke(self, input_messages, config):\n",
    "        # Check if input_messages is a list\n",
    "        if isinstance(input_messages, list):\n",
    "            # Initialize an empty list to store content strings\n",
    "            content_strings = []\n",
    "            # Loop over each message in the list\n",
    "            for message in input_messages:\n",
    "                # Check if the message is a AIMessages instance\n",
    "                if isinstance(message, AIMessage):\n",
    "                    # Append the content string to the list\n",
    "                    content_strings.append(message.content)\n",
    "                else:\n",
    "                    raise TypeError(\"Expected each item in the list to be a AIMessage object.\")\n",
    "            # Return the list of content strings\n",
    "            return content_strings\n",
    "        else:\n",
    "            # Check if the message is just an AIMessages instance\n",
    "            if isinstance(input_messages, AIMessage):\n",
    "                # Return the content string\n",
    "                return input_messages.content\n",
    "            else:\n",
    "                raise TypeError(\"Expected input_message to be a AIMessage object.\")"
   ]
  },
  {
   "cell_type": "code",
   "execution_count": 8,
   "metadata": {},
   "outputs": [
    {
     "data": {
      "text/plain": [
       "['Do you have vegetarian options available?',\n",
       " 'Are there vegetarian meal choices on the menu?',\n",
       " 'Can I find vegetarian dishes at your establishment?',\n",
       " 'Do you cater to customers looking for vegetarian food?',\n",
       " 'Is vegetarian food part of your menu offerings?']"
      ]
     },
     "execution_count": 8,
     "metadata": {},
     "output_type": "execute_result"
    }
   ],
   "source": [
    "from langchain_core.prompts import ChatPromptTemplate\n",
    "from langchain_core.runnables import RunnableLambda\n",
    "\n",
    "query = \"Do you offer vegetarian food?\"\n",
    "\n",
    "def split_lines(text: str) -> list[str]:\n",
    "    return text.strip().split(\"\\n\")\n",
    "\n",
    "output_parser = AIMessageToString() | RunnableLambda(split_lines)\n",
    "\n",
    "prompt = ChatPromptTemplate.from_template(\n",
    "    \"\"\"You are an AI language model assistant. Your task is to generate five\n",
    "    different versions of the given user question to retrieve relevant documents from a vector\n",
    "    database. By generating multiple perspectives on the user question, your goal is to help\n",
    "    the user overcome some of the limitations of the distance-based similarity search.\n",
    "    Provide these alternative questions separated by newlines. Only provide the query, no numbering.\n",
    "    Original question: {question}\"\"\")\n",
    "\n",
    "llm_chain = prompt | llm | output_parser\n",
    "queries = llm_chain.invoke(query)\n",
    "queries"
   ]
  },
  {
   "cell_type": "code",
   "execution_count": null,
   "metadata": {},
   "outputs": [],
   "source": [
    "queries = queries.get(\"text\")\n",
    "queries"
   ]
  },
  {
   "cell_type": "code",
   "execution_count": null,
   "metadata": {},
   "outputs": [],
   "source": [
    "docs = [retriever.get_relevant_documents(query) for query in queries]"
   ]
  },
  {
   "cell_type": "code",
   "execution_count": null,
   "metadata": {},
   "outputs": [],
   "source": [
    "unique_contents = set()\n",
    "unique_docs = []\n",
    "for sublist in docs:\n",
    "    for doc in sublist:\n",
    "        if doc.page_content not in unique_contents:\n",
    "            unique_docs.append(doc)\n",
    "            unique_contents.add(doc.page_content)\n",
    "unique_contents = list(unique_contents)"
   ]
  },
  {
   "cell_type": "code",
   "execution_count": null,
   "metadata": {},
   "outputs": [],
   "source": [
    "unique_contents"
   ]
  },
  {
   "cell_type": "markdown",
   "metadata": {},
   "source": [
    "# Cross-encoder re-ranking"
   ]
  },
  {
   "cell_type": "code",
   "execution_count": null,
   "metadata": {},
   "outputs": [],
   "source": [
    "from sentence_transformers import CrossEncoder\n",
    "cross_encoder = CrossEncoder('cross-encoder/ms-marco-MiniLM-L-6-v2')"
   ]
  },
  {
   "cell_type": "code",
   "execution_count": null,
   "metadata": {},
   "outputs": [],
   "source": [
    "pairs = []\n",
    "for doc in unique_contents:\n",
    "    pairs.append([query, doc])"
   ]
  },
  {
   "cell_type": "code",
   "execution_count": null,
   "metadata": {},
   "outputs": [],
   "source": [
    "scores = cross_encoder.predict(pairs)\n",
    "scores"
   ]
  },
  {
   "cell_type": "code",
   "execution_count": null,
   "metadata": {},
   "outputs": [],
   "source": [
    "scored_docs = zip(scores, unique_contents)\n",
    "sorted_docs = sorted(scored_docs, reverse=True)\n",
    "sorted_docs"
   ]
  },
  {
   "cell_type": "code",
   "execution_count": null,
   "metadata": {},
   "outputs": [],
   "source": [
    "reranked_docs = [doc for _, doc in sorted_docs][0:8]\n",
    "reranked_docs"
   ]
  },
  {
   "cell_type": "markdown",
   "metadata": {},
   "source": [
    "### Lost in the middle Problem"
   ]
  },
  {
   "cell_type": "code",
   "execution_count": null,
   "metadata": {},
   "outputs": [],
   "source": [
    "from langchain_community.document_transformers import (\n",
    "    LongContextReorder\n",
    ")"
   ]
  },
  {
   "cell_type": "code",
   "execution_count": null,
   "metadata": {},
   "outputs": [],
   "source": [
    "reordering = LongContextReorder()\n",
    "reordered_docs = reordering.transform_documents(reranked_docs)\n",
    "reordered_docs"
   ]
  }
 ],
 "metadata": {
  "kernelspec": {
   "display_name": "app",
   "language": "python",
   "name": "python3"
  },
  "language_info": {
   "codemirror_mode": {
    "name": "ipython",
    "version": 3
   },
   "file_extension": ".py",
   "mimetype": "text/x-python",
   "name": "python",
   "nbconvert_exporter": "python",
   "pygments_lexer": "ipython3",
   "version": "3.12.5"
  }
 },
 "nbformat": 4,
 "nbformat_minor": 2
}
